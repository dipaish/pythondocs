{
 "cells": [
  {
   "cell_type": "markdown",
   "metadata": {},
   "source": [
    "# Python Modules & Packages"
   ]
  },
  {
   "cell_type": "markdown",
   "metadata": {},
   "source": [
    "### Python Module\n",
    "\n",
    "A module is simply a text file named with a .py suffix, whose contents consist of Python code. It can be imported into an interactive console environment (e.g. a Jupyter notebook) or into another module. Importing a module executes that module’s code and produces a module-type object instance. Any variables that were assigned during the import are bound as attributes to that object.\n"
   ]
  },
  {
   "cell_type": "markdown",
   "metadata": {},
   "source": [
    "### Creating a Module\n",
    "\n",
    "Copy the following Python code in any of your text editor and save it as module.py\n",
    "At the time of installing anaconda, you have also installed Spyder IDE for Python. You can use that as well.\n",
    "\n",
    "#### # my first python module\n",
    "print(\"Hello World this is my first python module\")\n",
    "\n",
    "my_info = [\"Deepak\", \"00980\", \"Helsinki\"]\n",
    "\n",
    "def square(x):\n",
    "    return x ** 2\n",
    "\n",
    "def cube(x):\n",
    "    return x ** 3\n",
    "    \n",
    "## importing local python module\n",
    "\n",
    "Make sure that your module is located in the current working directory. You can check your current working directory by typing the following Python Code\n",
    "\n",
    "import os \n",
    "os.getcwd()\n",
    "\n",
    "Note:When you import a file, Python only searches the current directory, the directory that  script is running from, and sys.path which includes locations such as the package installation directory. Therefore, I recommend you to have your modules in the current directory or otherwise if it's in a separate directory, you need to add to the Python path at the run time \n",
    "\n",
    "### import module_file_name \n",
    "\n",
    "The above import does not entes the name of the functions defined in module directly in the current symbol table, it only enters the module named module. You can access the functions by using the module name \n",
    "\n",
    "#### module.square(25)\n",
    "\n",
    "To import names from a module directory \n",
    "\n",
    "#### from module import square,cube\n",
    "\n",
    "To import all names that a module defines\n",
    "\n",
    "#### from module import *\n",
    "Note: It is not a good practice to import with * from a module or package as it causes poorly readable code.\n",
    "\n",
    "The built in help function can help to summarize module's content. \n",
    "#### help(module)"
   ]
  },
  {
   "cell_type": "code",
   "execution_count": null,
   "metadata": {
    "scrolled": true
   },
   "outputs": [],
   "source": [
    "import module"
   ]
  },
  {
   "cell_type": "code",
   "execution_count": null,
   "metadata": {},
   "outputs": [],
   "source": [
    "import os\n",
    "os.getcwd()"
   ]
  },
  {
   "cell_type": "code",
   "execution_count": null,
   "metadata": {},
   "outputs": [],
   "source": [
    "help(module)"
   ]
  },
  {
   "cell_type": "code",
   "execution_count": null,
   "metadata": {},
   "outputs": [],
   "source": [
    "cube(3)"
   ]
  },
  {
   "cell_type": "code",
   "execution_count": null,
   "metadata": {},
   "outputs": [],
   "source": [
    "module.cube(3)"
   ]
  },
  {
   "cell_type": "code",
   "execution_count": null,
   "metadata": {},
   "outputs": [],
   "source": [
    "module.square(2)"
   ]
  },
  {
   "cell_type": "code",
   "execution_count": null,
   "metadata": {},
   "outputs": [],
   "source": [
    "from module import square"
   ]
  },
  {
   "cell_type": "code",
   "execution_count": null,
   "metadata": {},
   "outputs": [],
   "source": [
    "square(2)"
   ]
  },
  {
   "cell_type": "code",
   "execution_count": null,
   "metadata": {},
   "outputs": [],
   "source": [
    "from module import square, cube"
   ]
  },
  {
   "cell_type": "code",
   "execution_count": null,
   "metadata": {},
   "outputs": [],
   "source": [
    "cube(56)"
   ]
  },
  {
   "cell_type": "markdown",
   "metadata": {},
   "source": [
    "### Python Packages\n",
    "\n",
    "Packages are a way of structuring Python’s module namespace by using “dotted module names”. For example, the module name A.B designates a submodule named B in a package named A. Just like the use of modules saves the authors of different modules from having to worry about each other’s global variable names, the use of dotted module names saves the authors of multi-module packages like NumPy or Pillow from having to worry about each other’s module names.\n",
    "\n",
    "### Creating a package\n",
    "- Create a folder named mypackage1 \n",
    "- Create an empty file and save it as __init__.py\n",
    "- Crete different modules mod1.py mod2.py mod3.py\n",
    "mypackage1/\n",
    "    __init__.py\n",
    "    mod1.py\n",
    "    mod2.py\n",
    "    mod3.py\n",
    "    subpackage/\n",
    "        __init__.py\n",
    "        mod4.py\n",
    "        mod5.py\n",
    "    subpackage1/\n",
    "        __init__.py\n",
    "        mod6.py\n",
    "        mod7.py\n",
    "        \n",
    "#### Codes for mod1.py\n",
    "    def fun11():\n",
    "        print(\"this statement is exceuted from module 1\")\n",
    "        \n",
    "#### Codes for mod2.py\n",
    "    def fun2():\n",
    "        print(\"this statement is exceuted from module 2\")\n",
    "    def happyBirthday(person):\n",
    "        print(\"Happy Birthday to you!\")\n",
    "        print(\"Happy Birthday to you!\")\n",
    "        print(\"Happy Birthday, dear \" + person + \".\")\n",
    "        print(\"Happy Birthday to you!\")\n",
    "\n",
    "    def main():\n",
    "        userName = input(\"Enter the Birthday person's name: \")\n",
    "        happyBirthday(userName)\n",
    "        \n",
    "#### Codes for mod3.py\n",
    "    def fun3():\n",
    "        print(\"this statement is exceuted from module 3\")\n",
    "        \n",
    "        \n",
    "#### Importing package\n",
    "\n",
    "When importing a package, Python looks through the directory on sys.path. The __init__.py file sérves as the indicator that this particular directory is to be treated as a package.\n",
    "\n",
    "import mypackage.mod1\n",
    "or \n",
    "from mypackage import mod1"
   ]
  },
  {
   "cell_type": "code",
   "execution_count": null,
   "metadata": {},
   "outputs": [],
   "source": [
    "import mypackage1 #importing a python package\n",
    "mypackage1.mod1.fun11()"
   ]
  },
  {
   "cell_type": "code",
   "execution_count": null,
   "metadata": {},
   "outputs": [],
   "source": [
    "import mypackage1.mod1 #to import enitre mod1 module"
   ]
  },
  {
   "cell_type": "code",
   "execution_count": null,
   "metadata": {
    "scrolled": true
   },
   "outputs": [],
   "source": [
    "mypackage1.mod1.fun11()"
   ]
  },
  {
   "cell_type": "code",
   "execution_count": null,
   "metadata": {},
   "outputs": [],
   "source": [
    "from mypackage1.mod2 import fun2 #importing a function"
   ]
  },
  {
   "cell_type": "code",
   "execution_count": null,
   "metadata": {},
   "outputs": [],
   "source": [
    "from mypackage1.mod3 import fun3"
   ]
  },
  {
   "cell_type": "code",
   "execution_count": null,
   "metadata": {},
   "outputs": [],
   "source": [
    "fun3()"
   ]
  },
  {
   "cell_type": "code",
   "execution_count": null,
   "metadata": {},
   "outputs": [],
   "source": [
    "fun2()"
   ]
  }
 ],
 "metadata": {
  "kernelspec": {
   "display_name": "Python 3",
   "language": "python",
   "name": "python3"
  },
  "language_info": {
   "codemirror_mode": {
    "name": "ipython",
    "version": 3
   },
   "file_extension": ".py",
   "mimetype": "text/x-python",
   "name": "python",
   "nbconvert_exporter": "python",
   "pygments_lexer": "ipython3",
   "version": "3.7.3"
  }
 },
 "nbformat": 4,
 "nbformat_minor": 2
}

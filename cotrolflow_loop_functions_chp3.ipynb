{
 "cells": [
  {
   "cell_type": "markdown",
   "metadata": {},
   "source": [
    "# Control Flow Control Flow, Loops & Functions in Python"
   ]
  },
  {
   "cell_type": "markdown",
   "metadata": {},
   "source": [
    "#### If Syntax\n",
    "if <condition>: \n",
    "    <code block>\n",
    "elif <condition>:\n",
    "    <code block>\n",
    "elif <condition>:\n",
    "    <code block>\n",
    "else:\n",
    "    <code block>"
   ]
  },
  {
   "cell_type": "code",
   "execution_count": null,
   "metadata": {},
   "outputs": [],
   "source": [
    "#Simple if statements\n",
    "#input to get input from the user\n",
    "grade = int (input(\"What is your grade for IoT? \"))\n",
    "if grade >= 1:\n",
    "    print(\"You have successfully passed the course.\")"
   ]
  },
  {
   "cell_type": "code",
   "execution_count": null,
   "metadata": {},
   "outputs": [],
   "source": [
    "#if-esle statement - only 1 else statement\n",
    "grade = int (input(\"What is your grade for IoT? \"))\n",
    "if grade >= 1 and grade <=5 : #replace \"and\" with \"&\", check what happens by inputting 6? \n",
    "    print(\"You have successfully passed the course.\")\n",
    "else:\n",
    "    print(\"You have failed the course\")"
   ]
  },
  {
   "cell_type": "code",
   "execution_count": null,
   "metadata": {},
   "outputs": [],
   "source": [
    "#if-elif - multiple elif statement\n",
    "temp = int (input(\"Input temperate and press enter key \"))\n",
    "if temp < 0:\n",
    "    print (\"Freezing\")\n",
    "elif 0 <= temp <= 20:\n",
    "    print (\"Cold\")\n",
    "elif 21 <= temp <= 25:\n",
    "    print (\"Normal\")\n",
    "elif 26 <= temp <= 35:\n",
    "    print (\"Hot\")\n",
    "else:\n",
    "    print (\"Very Hot\")"
   ]
  },
  {
   "cell_type": "markdown",
   "metadata": {},
   "source": [
    "### For Syntax\n",
    "for <reference> in <sequence>:\n",
    "    <code block>\n",
    "    continue\n",
    "    break\n",
    "else:\n",
    "    <code block>"
   ]
  },
  {
   "cell_type": "code",
   "execution_count": null,
   "metadata": {},
   "outputs": [],
   "source": [
    "#for exmaple 1\n",
    "\n",
    "# Sum 0 to 50\n",
    "sum = 0\n",
    "for a in range(1, 50):\n",
    "    sum = sum + a\n",
    "print (sum)"
   ]
  },
  {
   "cell_type": "code",
   "execution_count": null,
   "metadata": {},
   "outputs": [],
   "source": [
    "#for example 2\n",
    "courses = ['IoT', 'Python', 'Python Project']\n",
    "for x in courses:\n",
    "    print(x, len(x))"
   ]
  },
  {
   "cell_type": "code",
   "execution_count": null,
   "metadata": {},
   "outputs": [],
   "source": [
    "#for example 3\n",
    "for i in range(1, 5):\n",
    "    print(i)\n",
    "else:\n",
    "    print('The for loop is over')"
   ]
  },
  {
   "cell_type": "code",
   "execution_count": null,
   "metadata": {},
   "outputs": [],
   "source": [
    "# for - using break\n",
    "# The break statement breaks out of the innermost enclosing for or while loop.\n",
    "for letter in 'Python':\n",
    "   if letter == 'o':\n",
    "      break\n",
    "   print ('Current Letter :', letter)\n",
    "  "
   ]
  },
  {
   "cell_type": "code",
   "execution_count": null,
   "metadata": {},
   "outputs": [],
   "source": [
    "# for - continue\n",
    "# The continue statement continues with the next iteration of the loop:\n",
    "for num in range(2, 10):\n",
    "    if num % 2 == 0:\n",
    "        print(\"Found an even number\",num)\n",
    "        continue # run this first with continue and without continue to realize the differences\n",
    "    print(\"Found a number\", num)"
   ]
  },
  {
   "cell_type": "code",
   "execution_count": null,
   "metadata": {},
   "outputs": [],
   "source": [
    "# range function : To iterate over a sequence of numbers, you can use range()\n",
    "#It generates arithmetic progressions:\n",
    "for i in range(5): #check for ranges range(0, 10, 3), range(1,15)\n",
    "    print(i)"
   ]
  },
  {
   "cell_type": "markdown",
   "metadata": {},
   "source": [
    "## While \n",
    "Syntax:\n",
    "while <condition>:\n",
    "    <code block>\n",
    "    continue\n",
    "    break\n",
    "else:\n",
    "    <code block>\n"
   ]
  },
  {
   "cell_type": "code",
   "execution_count": null,
   "metadata": {},
   "outputs": [],
   "source": [
    "#while example 1\n",
    "x = 1\n",
    "while x < 10:\n",
    "    print (\"this is %d time\" %(x))\n",
    "    x = x + 1"
   ]
  },
  {
   "cell_type": "markdown",
   "metadata": {},
   "source": [
    "## User Defined Functions\n",
    "def func(parameter1, parameter2=default_value):\n",
    "    \"\"\"\n",
    "    Doc String\n",
    "    \"\"\"\n",
    "    <code block>\n",
    "    return value\n",
    "    \n",
    "Docstrings or documentation strings is a convenient way of associating documentation with Python modules, functions, classes,or methods.The docstring should describe the function clear enough to make it easier to understand."
   ]
  },
  {
   "cell_type": "code",
   "execution_count": null,
   "metadata": {},
   "outputs": [],
   "source": [
    "#function example 1\n",
    "def hello():\n",
    "    # block belonging to the function\n",
    "    print('hello world')\n",
    "# End of function\n",
    "hello() #calling the function"
   ]
  },
  {
   "cell_type": "code",
   "execution_count": null,
   "metadata": {},
   "outputs": [],
   "source": [
    "#function example 2\n",
    "def happyBirthday(person):\n",
    "    print(\"Happy Birthday to you!\")\n",
    "    print(\"Happy Birthday to you!\")\n",
    "    print(\"Happy Birthday, dear \" + person + \".\")\n",
    "    print(\"Happy Birthday to you!\")\n",
    "\n",
    "def main():\n",
    "    userName = input(\"Enter the Birthday person's name: \")\n",
    "    happyBirthday(userName)\n",
    "\n",
    "main()"
   ]
  }
 ],
 "metadata": {
  "kernelspec": {
   "display_name": "Python 3",
   "language": "python",
   "name": "python3"
  },
  "language_info": {
   "codemirror_mode": {
    "name": "ipython",
    "version": 3
   },
   "file_extension": ".py",
   "mimetype": "text/x-python",
   "name": "python",
   "nbconvert_exporter": "python",
   "pygments_lexer": "ipython3",
   "version": "3.7.3"
  }
 },
 "nbformat": 4,
 "nbformat_minor": 2
}

{
 "cells": [
  {
   "cell_type": "code",
   "execution_count": 4,
   "metadata": {},
   "outputs": [
    {
     "data": {
      "text/plain": [
       "'C:\\\\Users\\\\deepak1'"
      ]
     },
     "execution_count": 4,
     "metadata": {},
     "output_type": "execute_result"
    }
   ],
   "source": [
    "# to check the current location you can type pwd \n",
    "# in my case untitled.txt is located in my current working directory\n",
    "%pwd"
   ]
  },
  {
   "cell_type": "code",
   "execution_count": 5,
   "metadata": {},
   "outputs": [
    {
     "name": "stdout",
     "output_type": "stream",
     "text": [
      "D:\\google_Drive\n"
     ]
    }
   ],
   "source": [
    "#if you want to change your working directory use cd\n",
    "%cd D:\\\\google_Drive"
   ]
  },
  {
   "cell_type": "code",
   "execution_count": 6,
   "metadata": {},
   "outputs": [
    {
     "data": {
      "text/plain": [
       "'D:\\\\google_Drive'"
      ]
     },
     "execution_count": 6,
     "metadata": {},
     "output_type": "execute_result"
    }
   ],
   "source": [
    "%pwd"
   ]
  },
  {
   "cell_type": "markdown",
   "metadata": {},
   "source": [
    "# Opening a file in read mode"
   ]
  },
  {
   "cell_type": "code",
   "execution_count": 8,
   "metadata": {},
   "outputs": [
    {
     "name": "stdout",
     "output_type": "stream",
     "text": [
      "# create a module, save this as module.py\n",
      "\n",
      "def hello(name)\n",
      "\n",
      "    print(\"Hello, \" + name)\n"
     ]
    }
   ],
   "source": [
    "# a file named \"untitled.txt\", will be opened with the reading mode. \n",
    "file = open('C:\\\\Users\\\\deepak1\\\\untitled.txt', 'r') # when you are not in the current working directory type the complete path\n",
    "# This will print every line one by one in the file \n",
    "for each in file: \n",
    "\tprint (each) "
   ]
  },
  {
   "cell_type": "code",
   "execution_count": 10,
   "metadata": {},
   "outputs": [
    {
     "name": "stdout",
     "output_type": "stream",
     "text": [
      "C:\\Users\\deepak1\n"
     ]
    }
   ],
   "source": [
    "%cd C:\\\\Users\\\\deepak1\\\\"
   ]
  },
  {
   "cell_type": "code",
   "execution_count": 11,
   "metadata": {},
   "outputs": [
    {
     "name": "stdout",
     "output_type": "stream",
     "text": [
      "# create a module, save this as module.py\n",
      "def hello(name)\n",
      "    print(\"Hello, \" + name)\n"
     ]
    }
   ],
   "source": [
    "# Another way to read file is to use file.read()\n",
    "file = open(\"untitled.txt\", \"r\")  \n",
    "print (file.read() )"
   ]
  },
  {
   "cell_type": "code",
   "execution_count": 12,
   "metadata": {},
   "outputs": [
    {
     "name": "stdout",
     "output_type": "stream",
     "text": [
      "# create a module, save this as module.py\n",
      "def hell\n"
     ]
    }
   ],
   "source": [
    "#to read a certain number of characters from a file\n",
    "# to read the first 50 characters of the file\n",
    "file = open(\"untitled.txt\", \"r\")  \n",
    "print (file.read(50) )"
   ]
  },
  {
   "cell_type": "markdown",
   "metadata": {},
   "source": [
    "# Creating a file >> write() mode"
   ]
  },
  {
   "cell_type": "code",
   "execution_count": 13,
   "metadata": {},
   "outputs": [],
   "source": [
    "\n",
    "# Python code to create a file \n",
    "file = open('new.txt','w') \n",
    "file.write(\"This is a new file\") \n",
    "file.write(\"\\n Lets write one more line\") \n",
    "file.close() "
   ]
  },
  {
   "cell_type": "code",
   "execution_count": 16,
   "metadata": {},
   "outputs": [
    {
     "name": "stdout",
     "output_type": "stream",
     "text": [
      "This is a new file\n",
      " Lets write one more line\n",
      " lets add one more line to the file\n"
     ]
    }
   ],
   "source": [
    "#lets check if the file has been created\n",
    "file = open(\"new.txt\", \"r\")  \n",
    "print (file.read() )"
   ]
  },
  {
   "cell_type": "markdown",
   "metadata": {},
   "source": [
    "# Append() mode"
   ]
  },
  {
   "cell_type": "code",
   "execution_count": 15,
   "metadata": {},
   "outputs": [],
   "source": [
    "# to open the file in appeend mode use a\n",
    "file = open(\"new.txt\", \"a\")  \n",
    "file.write(\"\\n lets add one more line to the file\")\n",
    "file.close()"
   ]
  },
  {
   "cell_type": "code",
   "execution_count": null,
   "metadata": {},
   "outputs": [],
   "source": []
  }
 ],
 "metadata": {
  "kernelspec": {
   "display_name": "Python 3",
   "language": "python",
   "name": "python3"
  },
  "language_info": {
   "codemirror_mode": {
    "name": "ipython",
    "version": 3
   },
   "file_extension": ".py",
   "mimetype": "text/x-python",
   "name": "python",
   "nbconvert_exporter": "python",
   "pygments_lexer": "ipython3",
   "version": "3.7.3"
  }
 },
 "nbformat": 4,
 "nbformat_minor": 2
}

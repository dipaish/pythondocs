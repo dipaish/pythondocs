{
 "cells": [
  {
   "attachments": {},
   "cell_type": "markdown",
   "metadata": {},
   "source": [
    "# What is a Variable? \n",
    "\n",
    "- It is simply a name to refer memory location to hold a value\n",
    "- In Python, it is not required to declare variables or specify the type of value\n",
    "- The (=) equal to sign is used to assign value to a variable.\n",
    "- You can assign multiple values to variables at once. \n",
    "- You cannot mix operators with numbers and strings.\n",
    "    \n",
    "### Valid Names for Variables\n",
    "\n",
    "- A variable name may consist of alphanumeric characters (a-z, A-Z, 0-9) and the underscore symbol (_).\n",
    "- <b>You can not start a variable name with a numeric value</b>\n",
    "- You can not use reserved keywords such as a for, while, import etc as a variable name. \n"
   ]
  },
  {
   "cell_type": "code",
   "execution_count": null,
   "metadata": {},
   "outputs": [],
   "source": [
    "counter = 100 #example of an integer variable\n",
    "\n",
    "b = 100.5 #floating point numbers\n",
    "\n",
    "name = \"pekka\" # string\n",
    "\n",
    "print (counter, b, name)\n",
    "\n",
    "#it is possible to assign values to mupltiple variables simultaneously\n",
    "num1, num2, num3, num4 = 3, 4, 5, 6\n",
    "print(num1, num2, num3, num4)"
   ]
  },
  {
   "attachments": {
    "dtypes.PNG": {
     "image/png": "[encoded data removed]"
    }
   },
   "cell_type": "markdown",
   "metadata": {},
   "source": [
    "# Data Types\n",
    "\n",
    "Pytho has the following data types: numbers, boolean, string, list, tuple, dictionary.\n",
    "\n",
    "![dtypes.PNG](attachment:dtypes.PNG)\n",
    "\n",
    "To get the data type of any object, you can use the type() function"
   ]
  },
  {
   "cell_type": "code",
   "execution_count": 9,
   "metadata": {},
   "outputs": [
    {
     "name": "stdout",
     "output_type": "stream",
     "text": [
      "<class 'int'>\n",
      "<class 'str'>\n"
     ]
    }
   ],
   "source": [
    "#getting the data type\n",
    "a = 5\n",
    "name = \"deepak\"\n",
    "#list\n",
    "courses = [\"Windows OS\", \"Databases\"]\n",
    "#dict\n",
    "grade = {\"name\" : \"John\", \"grade\" : 5}\n",
    "print(type(a))\n",
    "print (type(name))"
   ]
  },
  {
   "cell_type": "markdown",
   "metadata": {},
   "source": [
    "## Number\n",
    "\n",
    "Python has 3 basic types of numbers. \n",
    "- Integers \n",
    "- Floating point number\n",
    "- Complex numbers\n",
    "\n",
    "#### Operators \n",
    "\n",
    "|Operation|Description| \n",
    "| :- | -: |\n",
    "| x+y |Sum of two numbers  | \n",
    "|x - y |Difference of two numbers|\n",
    "|x * y| Product of two numbers|\n",
    "|x / y |Quotient of two numbers|\n",
    "|x // y |Quotient of two numbers, returned as an integer|\n",
    "|x % y|x “modulo”: y: The remainder of x / y for positive x, y|\n",
    "|x ** y|x raised to the power y|\n",
    "|-x|A negated number|\n",
    "|abs(x)|The absolute value of a number|\n",
    "|x == y|Check if two numbers have the same value |\n",
    "|x != y|Check if two numbers have different values|\n",
    "|x > y|Check if x is greater than y|\n",
    "|x >= y|Check if x is greater than or equal to y|\n",
    "|x < y|Check if x is less than y|\n",
    "|x <= y|Check if x is less than or equal to y|\n",
    "\n",
    "### Integers\n",
    "\n",
    "- Integers are any whole number such as -1, -2, 0, 1,2,3. \n",
    "- Integers belong to the built-in type <b>int </b>. \n",
    "- In Python, you can create as large integer as you would like. \n",
    "- Official Documentation on Integers: https://docs.python.org/3/library/stdtypes.html#additional-methods-on-integer-types\n",
    "\n",
    "### Floating-Point Numbers\n",
    "- Any number with deciman point is a floating point. \n",
    "- Floating-point numbers belong to the built in type <b>float</b>.\n",
    "- Official documnetation on Floating Point Numbers: https://docs.python.org/3/library/stdtypes.html#additional-methods-on-float"
   ]
  },
  {
   "cell_type": "code",
   "execution_count": 12,
   "metadata": {},
   "outputs": [
    {
     "name": "stdout",
     "output_type": "stream",
     "text": [
      "7\n",
      "9\n"
     ]
    },
    {
     "data": {
      "text/plain": [
       "True"
      ]
     },
     "execution_count": 12,
     "metadata": {},
     "output_type": "execute_result"
    }
   ],
   "source": [
    "#please run the following lines of codes in separate cells \n",
    "#************************* Operators ****************************\n",
    "# multiplication takes precedence over addition\n",
    "a = 1 + 2 * 3\n",
    "\n",
    "# grouping operations with parentheses\n",
    "b = (1 + 2) * 3\n",
    "\n",
    "print(a)\n",
    "print (b)\n",
    "\n",
    "# checking an inequality\n",
    "(2 ** 3) < (2 ** 4)\n",
    "#****************Integers*****************************************\n",
    "# check the type of object , -5 is an integer\n",
    "type(-5)\n",
    "\n",
    "# lets check if 5.1 is an integer\n",
    "isinstance(5.1, int)\n",
    "\n",
    "# converting a string to an integer\n",
    "int(\"5\")\n",
    "\n",
    "# converting a floating-point number to an integer\n",
    "int(5.5)\n",
    "\n",
    "#******************************** Float ******************************\n",
    "# 5.5 is a float\n",
    "type(-5.5)\n",
    "\n",
    "# checking if 5 is a float object which is not  \n",
    "isinstance(5, float)\n",
    "\n",
    "# including a decimal makes the number a float\n",
    "isinstance(5., float)\n",
    "\n",
    "# converting a string to a floating-point number\n",
    "float(\"5.5\")\n",
    "\n",
    "# converting an integer to a floating-point number\n",
    "float(-5)"
   ]
  },
  {
   "cell_type": "markdown",
   "metadata": {},
   "source": [
    "# Boolean\n",
    "\n",
    "- There are two boolean-type objects: True and False\n",
    "- Boolean type belong to the built-in type <b>bool</b>\n",
    "- The two boolean objects True and False formally belong to the int type in addition to bool, and are associated with the values 1 and 0\n",
    "- True and False must be specified with capital letters in Python.\n",
    "- Do not confuse them with strings. There are no no quotation marks used for boolean. \n",
    "\n",
    "### Logic Operators for performing basic boolean logic\n",
    "\n",
    "|Logical Operation|Symbolic Operator| \n",
    "| :- | -: |\n",
    "|and | & |\n",
    "|or | \\||"
   ]
  },
  {
   "cell_type": "code",
   "execution_count": null,
   "metadata": {},
   "outputs": [],
   "source": [
    "name = \"deepak kc\"\n",
    "name.isalnum() # to check if all characters are numbers\n",
    "name.isalpha() # to check if all characters are strings\n",
    "name.islower() # to check if string contains all lower case letters\n",
    "print (name.isalnum())\n",
    "print (name.isalpha())\n",
    "print (name.islower())\n",
    "\n",
    "#please run the following codes in separate cells\n",
    "\n",
    "# checking if True is integer; yes it is as True and False are 1 & 0\n",
    "isinstance(True, int)\n",
    "\n",
    "\n",
    "# the two boolean-objects: True and False\n",
    "type(True)\n",
    "\n",
    "# False is a boolean-type object\n",
    "isinstance(False, bool)\n",
    "\n",
    "True and False\n",
    "True and True \n",
    "True or False\n",
    "False and False"
   ]
  },
  {
   "cell_type": "markdown",
   "metadata": {},
   "source": [
    "# None- Type\n",
    "- The <b>NoneType</b> has exactly one object and is used to represent null which means nothing. \n",
    "\n",
    "type(None)"
   ]
  },
  {
   "cell_type": "code",
   "execution_count": 16,
   "metadata": {},
   "outputs": [
    {
     "name": "stdout",
     "output_type": "stream",
     "text": [
      "The list did not contain any number larger than 10\n"
     ]
    }
   ],
   "source": [
    "# Example of the use of None\n",
    "large_num = None\n",
    "\n",
    "for number in [1, 2, 3, 4]:\n",
    "    if number > 10:\n",
    "        large_num = number\n",
    "        break\n",
    "\n",
    "if large_num is None:\n",
    "    print(\"The list did not contain any number larger than 10\")"
   ]
  },
  {
   "cell_type": "markdown",
   "metadata": {},
   "source": [
    "# String\n",
    "- It is a sequences of character data enclosed in single, double or tripe quotes\n",
    "    - Single quotes: 'Hello world'\n",
    "    - Double quotes: \"Hello world\"\n",
    "    - triple quotes: \"\"\"Hello world\"\"\" or '''Hello world'''\n",
    "- Strings belong to the built-in str type object.\n",
    "- Built in Functions for strings: https://docs.python.org/3/library/stdtypes.html#string-methods\n",
    "- Formatting Strings: https://docs.python.org/3/library/string.html#format-examples \n"
   ]
  },
  {
   "cell_type": "code",
   "execution_count": 18,
   "metadata": {},
   "outputs": [
    {
     "name": "stdout",
     "output_type": "stream",
     "text": [
      "this is string\n",
      "Hello World\n",
      "H\n",
      "Hel\n",
      "ll\n",
      "llo World\n",
      "Hello WorldHello World\n",
      "Hello World deepak kc\n"
     ]
    }
   ],
   "source": [
    "print(\"this is string\")\n",
    "mystring = \"Hello World\"\n",
    "print (mystring) \n",
    "#String contains a sequence of characters,\n",
    "# it is possible to access individual characters\n",
    "print (mystring[0]) #prints the first character\n",
    "print (mystring[0:3])\n",
    "print (mystring[2:4]) #prints the third and 4th character\n",
    "print (mystring[2:]) #prints third character onward\n",
    "print (mystring * 2) #prints two times, repitition\n",
    "print (mystring + \" & deepak kc\") #adds my string to deepak kc"
   ]
  },
  {
   "cell_type": "markdown",
   "metadata": {},
   "source": [
    "# type() - built in method"
   ]
  },
  {
   "cell_type": "code",
   "execution_count": null,
   "metadata": {},
   "outputs": [],
   "source": [
    "#Python have a built-in method called as type which \n",
    "#generally come in handy while figuring out the type of variable\n",
    "#used in the program in the runtime.\n",
    "type (\"this is string\") "
   ]
  },
  {
   "cell_type": "markdown",
   "metadata": {},
   "source": [
    "# List "
   ]
  },
  {
   "cell_type": "code",
   "execution_count": null,
   "metadata": {},
   "outputs": [],
   "source": [
    "mylist = [\"deepak kc\", \"00970\", \"Helsinki\", 1.6 ]\n",
    "mylist1 = [\"mouse\", [8, 4, 6], ['a']] # nested list\n",
    "print (mylist)\n",
    "print (mylist1) #prints all elements \n",
    "print (mylist [1]) # prints the second element\n",
    "print (mylist [2:]) # prints third elements onward\n"
   ]
  },
  {
   "cell_type": "code",
   "execution_count": null,
   "metadata": {},
   "outputs": [],
   "source": [
    "list = ['larry', 'curly', 'moe']\n",
    "list.append('shemp')         ## append elem at end\n",
    "list.insert(0, 'xxx')        ## insert elem at index 0\n",
    "list.extend(['yyy', 'zzz'])  ## add list of elems at end\n",
    "print (list)  ## ['xxx', 'larry', 'curly', 'moe', 'shemp', 'yyy', 'zzz']\n",
    "print (list.index('curly'))    ## 2\n",
    "list.remove('curly')         ## search and remove that element\n",
    "list.pop(1)                  ## removes and returns 'larry'\n",
    "print (list)  ## ['xxx', 'moe', 'shemp', 'yyy', 'zzz']\n"
   ]
  },
  {
   "cell_type": "markdown",
   "metadata": {},
   "source": [
    "# List Build Up"
   ]
  },
  {
   "cell_type": "markdown",
   "metadata": {},
   "source": [
    "One common method is to start a list with the empty list [], then use append() or extend() to add elements to it:"
   ]
  },
  {
   "cell_type": "code",
   "execution_count": null,
   "metadata": {},
   "outputs": [],
   "source": [
    "list = []          ## Start as the empty list\n",
    "list.append('a')   ## Use append() to add elements\n",
    "list.append('b')\n",
    "print(list)"
   ]
  },
  {
   "cell_type": "markdown",
   "metadata": {},
   "source": [
    "# % String : \n",
    "\n",
    "It is used to put strings together. The % operator takes a printf-type format string on the left (%d int, %s string, %f/%g floating point), and the matching values in a tuple on the right "
   ]
  },
  {
   "cell_type": "code",
   "execution_count": 19,
   "metadata": {},
   "outputs": [
    {
     "name": "stdout",
     "output_type": "stream",
     "text": [
      "3 little pigs come out, or I'll huff, and I'll puff, and I'll blow your house down.\n",
      "3 little pigs come out, or I'll huff, and I'll puff, and I'll blow your house down.\n",
      "3 little pigs come out, or I'll huff, and I'll puff, and I'll blow your house down.\n"
     ]
    }
   ],
   "source": [
    "# % operator\n",
    "text = \"%d little pigs come out, or I'll %s, and I'll %s, and I'll blow your %s down.\" % (3, 'huff', 'puff', 'house')\n",
    "print(text)\n",
    "\n",
    "# Add parentheses to make the long line work:\n",
    "text1 = (\n",
    "    \"%d little pigs come out, or I'll %s, and I'll %s, and I'll blow your %s down.\"\n",
    "    % (3, 'huff', 'puff', 'house'))\n",
    "print (text1)\n",
    "\n",
    "# Split the line into chunks, which are concatenated automatically by Python\n",
    "text3 = (\n",
    "    \"%d little pigs come out, \"\n",
    "    \"or I'll %s, and I'll %s, \"\n",
    "    \"and I'll blow your %s down.\"\n",
    "    % (3, 'huff', 'puff', 'house'))\n",
    "print (text3)"
   ]
  },
  {
   "cell_type": "markdown",
   "metadata": {},
   "source": [
    "## Tuple: Examples"
   ]
  },
  {
   "cell_type": "code",
   "execution_count": null,
   "metadata": {},
   "outputs": [],
   "source": [
    "mytuple = ( 'deepak', 987, 778, 'Helsinki', 100.2  )\n",
    "\n",
    "print (mytuple)           # Prints complete list\n",
    "print (mytuple[0])        # Prints first element of the list\n",
    "print (mytuple[1:3])      # Prints elements starting from 2nd till 3rd \n"
   ]
  },
  {
   "cell_type": "markdown",
   "metadata": {},
   "source": [
    "# # Dictionary Examples\n",
    "dict() is a built in function"
   ]
  },
  {
   "cell_type": "code",
   "execution_count": null,
   "metadata": {},
   "outputs": [],
   "source": [
    "\n",
    "test = {} # empty dictionary\n",
    "test1 = {1: 'IoT & Cloud', 2: 'Python'} # dictionary with integer keys\n",
    "test2 = {'name': 'John', 1: [2, 4, 3]} # dictionary with mixed keys\n",
    "test3 = dict({1:'IoT & Cloud', 2:'Python'})\n",
    "test4 = dict([(1,'apple'), (2,'ball')]) # from sequence having each item as a pair\n",
    "test5 = { 'Name': ('Deepak', 'Pekka', 'Markku'), 'Code': (12, 34, 56) }\n",
    "print(test1[1])\n",
    "print(test1.get(2))\n",
    "print(test1[2])\n",
    "print (test5['Name'], test5['Code'] ) \n",
    "\n",
    "#changing or adding elements \n",
    "test1[1] = 'Introduction to IoT & Cloud'\n",
    "print(test1[1])\n",
    "\n",
    "# create a dictionary\n",
    "numbers = {1:1, 2:2, 3:3, 4:4, 5:5}  \n",
    "\n",
    "# remove a particular item\n",
    "print(numbers.pop(4))  \n",
    "print(numbers)\n",
    "\n",
    "# remove an arbitrary item\n",
    "print(numbers.popitem())\n",
    "print(numbers)\n",
    "\n",
    "# delete a particular item\n",
    "del numbers[3]  \n",
    "print(numbers)\n",
    "\n",
    "# remove all items\n",
    "numbers.clear()\n",
    "print(numbers)\n",
    "\n",
    "# delete the dictionary itself\n",
    "del numbers\n",
    "\n"
   ]
  },
  {
   "cell_type": "code",
   "execution_count": null,
   "metadata": {},
   "outputs": [],
   "source": [
    "#deleting an item using pop\n",
    "squares = {1:1, 2:4, 3:9, 4:16, 5:25}\n",
    "print(squares.pop(4)) "
   ]
  },
  {
   "cell_type": "markdown",
   "metadata": {},
   "source": [
    "© Deepak KC - Last Updated on 10/9/2020"
   ]
  }
 ],
 "metadata": {
  "kernelspec": {
   "display_name": "Python 3",
   "language": "python",
   "name": "python3"
  },
  "language_info": {
   "codemirror_mode": {
    "name": "ipython",
    "version": 3
   },
   "file_extension": ".py",
   "mimetype": "text/x-python",
   "name": "python",
   "nbconvert_exporter": "python",
   "pygments_lexer": "ipython3",
   "version": "3.7.3"
  }
 },
 "nbformat": 4,
 "nbformat_minor": 2
}

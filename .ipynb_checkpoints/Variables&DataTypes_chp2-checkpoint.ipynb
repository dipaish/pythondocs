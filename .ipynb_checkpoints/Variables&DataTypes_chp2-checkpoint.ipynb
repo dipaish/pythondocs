{
 "cells": [
  {
   "attachments": {},
   "cell_type": "markdown",
   "metadata": {},
   "source": [
    "# What is a Variable? \n",
    "\n",
    "- It is simply a name to refer memory location to hold a value\n",
    "- In Python, it is not required to declare variables or specify the type of value\n",
    "- The (=) equal to sign is used to assign value to a variable.\n",
    "- You can assign multiple values to variables at once. \n",
    "- You cannot mix operators with numbers and strings.\n",
    "    \n",
    "### Valid Names for Variables\n",
    "\n",
    "- A variable name may consist of alphanumeric characters (a-z, A-Z, 0-9) and the underscore symbol (_).\n",
    "- <b>You can not start a variable name with a numeric value</b>\n",
    "- You can not use reserved keywords such as a for, while, import etc as a variable name. \n"
   ]
  },
  {
   "cell_type": "code",
   "execution_count": null,
   "metadata": {},
   "outputs": [],
   "source": [
    "counter = 100 #example of an integer variable\n",
    "\n",
    "b = 100.5 #floating point numbers\n",
    "\n",
    "name = \"pekka\" # string\n",
    "\n",
    "print (counter, b, name)\n",
    "\n",
    "#it is possible to assign values to mupltiple variables simultaneously\n",
    "num1, num2, num3 = 3, 4, 5\n",
    "print(num1, num2, num3)"
   ]
  },
  {
   "cell_type": "markdown",
   "metadata": {},
   "source": [
    "# Boolean"
   ]
  },
  {
   "cell_type": "code",
   "execution_count": null,
   "metadata": {},
   "outputs": [],
   "source": [
    "name = \"deepak kc\"\n",
    "name.isalnum() # to check if all characters are numbers\n",
    "name.isalpha() # to check if all characters are strings\n",
    "name.islower() # to check if string contains all lower case letters\n",
    "print (name.isalnum())\n",
    "print (name.isalpha())\n",
    "print (name.islower())"
   ]
  },
  {
   "cell_type": "code",
   "execution_count": null,
   "metadata": {},
   "outputs": [],
   "source": [
    "True and False\n",
    "True and True \n",
    "True or False\n",
    "False and False"
   ]
  },
  {
   "cell_type": "markdown",
   "metadata": {},
   "source": [
    "# String"
   ]
  },
  {
   "cell_type": "code",
   "execution_count": null,
   "metadata": {},
   "outputs": [],
   "source": [
    "print(\"this is string\")\n",
    "mystring = \"Hello World\"\n",
    "print (mystring) \n",
    "print (mystring[0]) #prints the first character\n",
    "print (mystring[2:4]) #prints the third and 4th character\n",
    "print (mystring[2:]) #prints third character onward\n",
    "print (mystring * 2) #prints two times\n",
    "print (mystring + \" deepak kc\") #adds my string to deepak kc"
   ]
  },
  {
   "cell_type": "markdown",
   "metadata": {},
   "source": [
    "# type() - built in method"
   ]
  },
  {
   "cell_type": "code",
   "execution_count": null,
   "metadata": {},
   "outputs": [],
   "source": [
    "#Python have a built-in method called as type which \n",
    "#generally come in handy while figuring out the type of variable\n",
    "#used in the program in the runtime.\n",
    "type (\"this is string\") "
   ]
  },
  {
   "cell_type": "markdown",
   "metadata": {},
   "source": [
    "# List "
   ]
  },
  {
   "cell_type": "code",
   "execution_count": null,
   "metadata": {},
   "outputs": [],
   "source": [
    "mylist = [\"deepak kc\", \"00970\", \"Helsinki\", 1.6 ]\n",
    "mylist1 = [\"mouse\", [8, 4, 6], ['a']] # nested list\n",
    "print (mylist)\n",
    "print (mylist1) #prints all elements \n",
    "print (mylist [1]) # prints the second element\n",
    "print (mylist [2:]) # prints third elements onward\n"
   ]
  },
  {
   "cell_type": "code",
   "execution_count": null,
   "metadata": {},
   "outputs": [],
   "source": [
    "list = ['larry', 'curly', 'moe']\n",
    "list.append('shemp')         ## append elem at end\n",
    "list.insert(0, 'xxx')        ## insert elem at index 0\n",
    "list.extend(['yyy', 'zzz'])  ## add list of elems at end\n",
    "print (list)  ## ['xxx', 'larry', 'curly', 'moe', 'shemp', 'yyy', 'zzz']\n",
    "print (list.index('curly'))    ## 2\n",
    "list.remove('curly')         ## search and remove that element\n",
    "list.pop(1)                  ## removes and returns 'larry'\n",
    "print (list)  ## ['xxx', 'moe', 'shemp', 'yyy', 'zzz']\n"
   ]
  },
  {
   "cell_type": "markdown",
   "metadata": {},
   "source": [
    "# List Build Up"
   ]
  },
  {
   "cell_type": "markdown",
   "metadata": {},
   "source": [
    "One common method is to start a list with the empty list [], then use append() or extend() to add elements to it:"
   ]
  },
  {
   "cell_type": "code",
   "execution_count": null,
   "metadata": {},
   "outputs": [],
   "source": [
    "list = []          ## Start as the empty list\n",
    "list.append('a')   ## Use append() to add elements\n",
    "list.append('b')\n",
    "print(list)"
   ]
  },
  {
   "cell_type": "markdown",
   "metadata": {},
   "source": [
    "# % String : \n",
    "\n",
    "It is used to put strings together. The % operator takes a printf-type format string on the left (%d int, %s string, %f/%g floating point), and the matching values in a tuple on the right "
   ]
  },
  {
   "cell_type": "code",
   "execution_count": null,
   "metadata": {},
   "outputs": [],
   "source": [
    "# % operator\n",
    "text = \"%d little pigs come out, or I'll %s, and I'll %s, and I'll blow your %s down.\" % (3, 'huff', 'puff', 'house')\n",
    "print(text)\n",
    "\n",
    "# Add parentheses to make the long line work:\n",
    "text1 = (\n",
    "    \"%d little pigs come out, or I'll %s, and I'll %s, and I'll blow your %s down.\"\n",
    "    % (3, 'huff', 'puff', 'house'))\n",
    "print (text1)\n",
    "\n",
    "# Split the line into chunks, which are concatenated automatically by Python\n",
    "text3 = (\n",
    "    \"%d little pigs come out, \"\n",
    "    \"or I'll %s, and I'll %s, \"\n",
    "    \"and I'll blow your %s down.\"\n",
    "    % (3, 'huff', 'puff', 'house'))\n",
    "print (text3)"
   ]
  },
  {
   "cell_type": "markdown",
   "metadata": {},
   "source": [
    "## Tuple: Examples"
   ]
  },
  {
   "cell_type": "code",
   "execution_count": null,
   "metadata": {},
   "outputs": [],
   "source": [
    "mytuple = ( 'deepak', 987, 778, 'Helsinki', 100.2  )\n",
    "\n",
    "print (mytuple)           # Prints complete list\n",
    "print (mytuple[0])        # Prints first element of the list\n",
    "print (mytuple[1:3])      # Prints elements starting from 2nd till 3rd \n"
   ]
  },
  {
   "cell_type": "markdown",
   "metadata": {},
   "source": [
    "# # Dictionary Examples\n",
    "dict() is a built in function"
   ]
  },
  {
   "cell_type": "code",
   "execution_count": null,
   "metadata": {},
   "outputs": [],
   "source": [
    "\n",
    "test = {} # empty dictionary\n",
    "test1 = {1: 'IoT & Cloud', 2: 'Python'} # dictionary with integer keys\n",
    "test2 = {'name': 'John', 1: [2, 4, 3]} # dictionary with mixed keys\n",
    "test3 = dict({1:'IoT & Cloud', 2:'Python'})\n",
    "test4 = dict([(1,'apple'), (2,'ball')]) # from sequence having each item as a pair\n",
    "test5 = { 'Name': ('Deepak', 'Pekka', 'Markku'), 'Code': (12, 34, 56) }\n",
    "print(test1[1])\n",
    "print(test1.get(2))\n",
    "print(test1[2])\n",
    "print (test5['Name'], test5['Code'] ) \n",
    "\n",
    "#changing or adding elements \n",
    "test1[1] = 'Introduction to IoT & Cloud'\n",
    "print(test1[1])\n",
    "\n",
    "# create a dictionary\n",
    "numbers = {1:1, 2:2, 3:3, 4:4, 5:5}  \n",
    "\n",
    "# remove a particular item\n",
    "print(numbers.pop(4))  \n",
    "print(numbers)\n",
    "\n",
    "# remove an arbitrary item\n",
    "print(numbers.popitem())\n",
    "print(numbers)\n",
    "\n",
    "# delete a particular item\n",
    "del numbers[3]  \n",
    "print(numbers)\n",
    "\n",
    "# remove all items\n",
    "numbers.clear()\n",
    "print(numbers)\n",
    "\n",
    "# delete the dictionary itself\n",
    "del numbers\n",
    "\n"
   ]
  },
  {
   "cell_type": "code",
   "execution_count": null,
   "metadata": {},
   "outputs": [],
   "source": [
    "#deleting an item using pop\n",
    "squares = {1:1, 2:4, 3:9, 4:16, 5:25}\n",
    "print(squares.pop(4)) "
   ]
  }
 ],
 "metadata": {
  "kernelspec": {
   "display_name": "Python 3",
   "language": "python",
   "name": "python3"
  },
  "language_info": {
   "codemirror_mode": {
    "name": "ipython",
    "version": 3
   },
   "file_extension": ".py",
   "mimetype": "text/x-python",
   "name": "python",
   "nbconvert_exporter": "python",
   "pygments_lexer": "ipython3",
   "version": "3.7.3"
  }
 },
 "nbformat": 4,
 "nbformat_minor": 2
}
